{
 "cells": [
  {
   "cell_type": "code",
   "execution_count": 1,
   "metadata": {},
   "outputs": [],
   "source": [
    "from datasets import load_dataset\n",
    "import logging, json\n",
    "from langdetect import detect\n",
    "\n",
    "logging.basicConfig(\n",
    "\tformat='%(asctime)s %(levelname)-8s %(message)s',\n",
    "\tlevel=logging.INFO,\n",
    "\tdatefmt='%Y-%m-%d %H:%M:%S')\n",
    "\n",
    "logger = logging\n"
   ]
  },
  {
   "cell_type": "code",
   "execution_count": 2,
   "metadata": {},
   "outputs": [],
   "source": [
    "datasets_urls = [\n",
    "    \"MbarkiDAzizAI/Job_Description\",\n",
    "    \"jacob-hugging-face/job-descriptions\",\n",
    "    \"lang-uk/recruitment-dataset-job-descriptions-english\", \n",
    "    \"Aneeth/job_description_7k\",\n",
    "    \"Aneeth/job_description_10k\",\n",
    "    \"cnamuangtoun/resume-job-description-fit\",\n",
    "    \"nakamoto-yama/job-descriptions-public\",\n",
    "    \"nathansutton/data-science-job-descriptions\"\n",
    "    ]"
   ]
  },
  {
   "cell_type": "code",
   "execution_count": 17,
   "metadata": {},
   "outputs": [],
   "source": [
    "import threading\n",
    "import json\n",
    "from concurrent.futures import ThreadPoolExecutor\n",
    "from threading import Lock\n",
    "\n",
    "# class MbarkDiAzizAIDataset:\n",
    "#     def __init__(self):\n",
    "#         self.base_output = \"./out\"\n",
    "#         self.out_json_file = \"MbarkiDAzizAI.json\"\n",
    "#         self.data_url = \"MbarkiDAzizAI/Job_Description\"\n",
    "#         self.train_dataset = None\n",
    "#         self.columns = []\n",
    "#         self.train_sizes = 0\n",
    "#         self.lock = Lock()\n",
    "\n",
    "#     def load_data(self):\n",
    "#         dataset = load_dataset(self.data_url)\n",
    "#         self.train_dataset = dataset['train']\n",
    "#         self.columns = self.train_dataset.column_names\n",
    "#         self.train_sizes = len(self.train_dataset)\n",
    "\n",
    "#     def translate_job(self, job):\n",
    "#         translated_job = {}\n",
    "#         for key, value in job.items():\n",
    "#             if isinstance(value, str):\n",
    "#                 # Split long texts into smaller chunks\n",
    "#                 chunks = [value[i:i+500] for i in range(0, len(value), 500)]\n",
    "#                 translated_chunks = []\n",
    "#                 for chunk in chunks:\n",
    "#                     try:\n",
    "#                         translated_chunk = translator.translate(chunk)\n",
    "#                         translated_chunks.append(translated_chunk)\n",
    "#                     except Exception:\n",
    "#                         # If translation fails, keep the original text\n",
    "#                         translated_chunks.append(chunk)\n",
    "#                 translated_job[key] = ' '.join(filter(None, translated_chunks))\n",
    "#             else:\n",
    "#                 translated_job[key] = value\n",
    "#         return translated_job\n",
    "\n",
    "#     def write_job(self, translated_job):\n",
    "#         with self.lock:\n",
    "#             with open(self.base_output + \"/\" + self.out_json_file, \"a\") as f:\n",
    "#                 json.dump(translated_job, f)\n",
    "#                 f.write(\",\\n\")\n",
    "#             logger.info(\"Saved %s ...\", translated_job[\"Input\"])\n",
    "\n",
    "#     def process_dataset(self):\n",
    "#         with open(self.base_output + \"/\" + self.out_json_file, \"w\") as f:\n",
    "#             f.write(\"[\")\n",
    "\n",
    "#         with ThreadPoolExecutor() as executor:\n",
    "#             translated_jobs = list(executor.map(self.translate_job, self.train_dataset))\n",
    "\n",
    "#         for translated_job in translated_jobs:\n",
    "#             self.write_job(translated_job)\n",
    "\n",
    "#         with open(self.base_output + \"/\" + self.out_json_file, \"a\") as f:\n",
    "#             f.write(\"]\")\n"
   ]
  },
  {
   "cell_type": "code",
   "execution_count": null,
   "metadata": {},
   "outputs": [],
   "source": [
    "\n",
    "\n",
    "class MbarkDiAzizAIDataset:\n",
    "    def __init__(self):\n",
    "        self.data_url = \"MbarkiDAzizAI/Job_Description\"\n",
    "        self.base_output = \"./out\"\n",
    "        self.out_json_file = \"MbarkiDAzizAI.json\"\n",
    "        self.train_dataset = None\n",
    "        self.columns = []\n",
    "        self.train_sizes = 0\n",
    "\n",
    "    def is_english(self, text):\n",
    "        try:\n",
    "            return detect(text) == 'en'\n",
    "        except:\n",
    "            return False\n",
    "\n",
    "\n",
    "    def load_data(self):\n",
    "        dataset = load_dataset(self.data_url)\n",
    "        self.train_dataset = dataset['train']\n",
    "        self.columns = self.train_dataset.column_names\n",
    "        self.train_sizes = len(self.train_dataset)\n",
    "\n",
    "    \n",
    "    def save_to_json(self):\n",
    "        with open(self.base_output + \"/\" + self.out_json_file, \"a\") as f:\n",
    "            f.write(\"[\")\n",
    "            for job in self.train_dataset:\n",
    "                if self.is_english(job[\"Input\"]):\n",
    "                    json.dump(job, f)\n",
    "                    f.write(\",\\n\")\n",
    "                    logger.info(\"Saved %s ...\", job[\"Input\"])\n",
    "                else:\n",
    "                    pass\n",
    "            f.write(\"]\")\n",
    "\n",
    "# Usage\n",
    "MDD = MbarkDiAzizAIDataset()\n",
    "MDD.load_data()\n",
    "MDD.save_to_json()\n"
   ]
  },
  {
   "cell_type": "code",
   "execution_count": null,
   "metadata": {},
   "outputs": [
    {
     "data": {
      "text/plain": [
       "{'company_name': ['Google', 'Apple', 'Netflix', 'Robert Half', 'TrackFive'],\n",
       " 'job_description': ['minimum qualifications\\nbachelors degree or equivalent practical experience years of experience in saas or productivity tools businessexperience managing enterprise accounts with sales cycles\\npreferred qualifications\\n years of experience building strategic business partnerships with enterprise customersability to work through and with a reseller ecosystem to scale the businessability to plan pitch and execute a territory business strategyability to build relationships and to deliver results in a crossfunctionalmatrixed environmentability to identify crosspromoting and uppromoting opportunities within the existing account baseexcellent account management writtenverbal communication strategic and analyticalthinking skills\\nabout the job\\nas a member of the google cloud team you inspire leading companies schools and government agencies to work smarter with google tools like google workspace search and chrome you advocate the innovative power of our products to make organizations more productive collaborative and mobile your guiding light is doing whats right for the customer you will meet customers exactly where they are at and provide them the best solutions for innovation using your passion for google products you help spread the magic of google to organizations around the world\\nthe google workspace team helps customers transform and evolve their business through the use of googles productivity collaboration and content management suite of applications as part of an entrepreneurial team in this growing business you will help shape the future of businesses use technology to connect with customers employees and partners\\nas a google workspace sales specialist you will be responsible for maintenance and expansion of google workspace business growth across the region with customers in this role youll create and execute the strategy and provide unique insights on applying google workspace solutions to enterprisesyou will build an excellent pipeline and work with the account teams to build out the customer solution and establish partnerships you will strategize with partners to increase account and territory business growth you will work directly with customers coordinate internal resources and construct successful strategies at account and territory level\\ngoogle cloud accelerates organizations ability to digitally transform their business with the best infrastructure platform industry solutions and expertise we deliver enterprisegrade solutions that leverage googles cuttingedge technology  all on the cleanest cloud in the industry customers in more than  countries and territories turn to google cloud as their trusted partner to enable growth and solve their most critical business problems',\n",
       "  'description\\nas an asc you will be highly influential in growing mind and market share of apple products while building longterm relationships with those who share your passion \\ncustomer experiences are driven through you and your partner team growing in an ever changing and challenging environment you strive for perfection whether its maintaining visual merchandising or helping to grow and develop your partner team\\n\\nqualifications\\na passion to help people understand how apple products can enrich their livesexcellent communication skills allowing you to be as comfortable in front of a small group as you are speaking with individuals years preferred working in a dynamic sales andor results driven environment as well as proven success developing customer loyaltyability to encourage a partner team and grow apple business',\n",
       "  'its an amazing time to be joining netflix as we continue to transform entertainment globally netflix is the worlds leading internet entertainment service with over  million paid memberships in over  countries enjoying tv series documentaries and feature films across a wide variety of genres and languages members can watch as much as they want anytime anywhere on any internetconnected screen members can play pause and resume watching all without commercials or commitments\\n\\nthe consumer products team aspires to connect members to our content and each other by bringing their favorite stories to real life our products and campaigns should entertain delight and bring joy to our fans all over the world\\xa0\\n\\ndue to the expansion of licensees and categories we are in need of additional support with active and prospective partnerships for current and upcoming titles we are looking for a licensing coordinator who will work across the entire slate of netflix content to bring our content to life via compelling products they will support two managers who oversee the food and beverage toys and collectibles electronics and sporting goods categories focusing on us and canada regional opportunities the individual would be a taskmaster extraordinaire who will assist in the day to day deliverables working alongside internal as well as external partners the successful candidate will be a dynamic professional who has an understanding of the outbound licensing workflow and can roll up their sleeves to knock out tasks in an orderly and swift pace\\xa0\\n\\nkey responsibilities\\nhelp drive business by supporting licensing managers on tasks related to category management facilitating information between external and internal stakeholders and maintaining communication of product and partner planscoordinate with internal teams to gather and distribute brand and marketing updates to share out with licensing partnersmaintain and update title strategies with category licensing plans and activitycollaborate with licensing partners to obtain placement updates and distribute to internal business partnersassist licensing managers with compiling licensing recaps following product launches\\xa0schedule meetings and when needed draft and distribute meeting recaps to respective business partnersprepare distribute and track deal memos and final agreements to ensure deals are processed efficiently through all stepswork with licensing managers to prepare onboarding for new licenseesfacilitate receipt of forecasts and send royalty payment reminders as neededpartner with creative teams to keep product development on track to attain commercial objectives\\nwhat we need from you\\ndemonstrated  years of experience in preferably outbound licensing functionunderstanding of category manufacturing and sales cycle for toys andor food and beverage is preferredexperience working with reputable entertainment andor lifestyle brandsselfstarter motivated proactive and flexibleability to thrive under pressure in a fastpaced dynamic environmentpossess attention to details with superb organizational skillsmultitasker extraordinaire with ability to prioritizeexcellent communicator\\xa0alignment with our company\\xa0culture\\xa0and values',\n",
       "  'description\\n\\nweb designers looking to expand your professional reach welcome to robert half marketing  creative start the process with robert half today\\n\\nwe are searching for highly skilled web designers with experience working within corporate brand standards and guidelines the ideal candidates would have advanced skills in creating wireframes designing mobile applications landing pages interactive sites qa testing experience working with various interfaces and familiarity with uxui design principles candidates are expected to have strong skills in adobe photoshop illustrator and indesign any experience in html css and javascript is a major plus familiarity with content management systems is highly preferred\\n\\nthere is nothing more satisfying when looking for freelance and fulltime creative opportunities than working with someone who knows your area of expertise as industry professionals robert half marketing  creative is a team that puts your needs first and effectively represents you as a creative talent thats the kind of service youll receive from our team at robert half\\n\\nwe have marketing advertising and creative backgrounds just like yours  so were on your side right from the start could you ask for a better support team\\n\\nrequirements\\n  years experience in a web design role\\n experience working within a clients brand standards or guidelines\\n advanced skill in the adobe creative cloud\\n\\ninnovation starts with people\\n\\nrobert half is the worlds first and largest specialized talent solutions firm that connects highly qualified job seekers to opportunities at great companies we offer contract temporary and permanent placement solutions for finance and accounting technology marketing and creative legal and administrative and customer support roles\\n\\nrobert half puts you in the best position to succeed by advocating on your behalf and promoting you to employers we provide access to top jobs competitive compensation and benefits and free online training stay on top of every opportunity  even on the go\\n\\nquestions call your local office at  robert half will consider qualified applicants with criminal histories in a manner consistent with the requirements of the san francisco fair chance ordinance all applicants applying for us job openings must be legally authorized to work in the united states benefits are available to temporary professionals visit\\n\\n  robert half an equal opportunity employer mfdisabilityveterans by clicking apply now youre agreeing to',\n",
       "  'at trackfive weve got big goals were on a mission to revolutionize recruiting with easytouse tools and platforms and we envision a future where we can fill every open job with a qualified candidate thats why were looking for pioneerspeople who blaze trails and are committed to doing great work we might be small but we are mightyweve got more than a decade of skin in the game yet weve managed to maintain our startup feel the trackfive culture is centered around hard work but we believe strongly in balance and having funin a nutshell we love coming to work we value different backgrounds and perspectives believing that together we can use our creativity and curiosity to make amazing things happen\\n\\nif youre ready to be a part of something exciting trackfive is currently searching for a talented web developer this position is not dependent on location and can be local to the office with hybrid or inoffice options available or fully remote\\n please note that a skills test may be a requirement for potential candidates in the interview process\\n\\nwhat youll do\\n\\nthe web developer is responsible for delivering robust solutions to our clients they work collaboratively to support trackfives existing web application portfolio and the successful delivery of new development initiatives\\n\\nthe life of a trackfive web developer\\n contribute to all phases of the development lifecycle by following internal procedures and coding standards\\n build  layouts from provided psd files\\n build dynamic web apps using phpmysqlframeworks\\n leverage rest services and other thirdparty apis\\n rapidly solve problems bugs and compatibility issues\\n troubleshoot test and maintain the core product software and databases to ensure strong optimization and functionality\\n develop and deploy new features to facilitate related procedures and tools as necessary\\n\\nskills necessary\\n  years or experience with html and csssass\\n  years of experience with programming php applications and lamp stack development\\n experience with   javascript and jquery\\n thorough understanding of relational databases and security relating to phpmysql\\n expert knowledge with content management systems either from your own design or from mvc frameworks such as zend laravel etc\\n ability to build and consume custom soap and rest apis\\n  years of experience writing unit testsdetailing procedures\\n selfmotivated requiring minimal supervision\\n exceptional organization and communication skills\\n\\nwhy you want to work at trackfive\\n free health insurance for employees with no waiting period\\n dental and vision insurance trackfive splits the cost with you\\n your birthday is a paid holiday\\n companypaid short and longterm disability insurance\\n companypaid life insurance\\n flex time\\n paid parental leave\\n companymatched retirement plan with no waiting or vesting period\\n the opportunity to workfromhome a few days a week\\n so much swag\\n cool inoffice perks like free snacks massages yoga and bringyourpettowork days just to name a few\\n the opportunity to work with a great group of people up to some very exciting things\\n the opportunity to attend our epic annual holiday party\\n trackfive is an equal opportunity employer'],\n",
       " 'position_title': ['Sales Specialist',\n",
       "  'Apple Solutions Consultant',\n",
       "  'Licensing Coordinator - Consumer Products',\n",
       "  'Web Designer',\n",
       "  'Web Developer'],\n",
       " 'description_length': [2727, 828, 3205, 2489, 3167],\n",
       " 'model_response': [' {\\n  \"Core Responsibilities\": \"Responsible for expanding Google Workspace product adoption across an assigned territory. Build relationships with customers to understand needs and provide Google Workspace solutions. Partner with account teams to construct solutions and grow business for Google Workspace.\",\\n  \"Required Skills\": \"Bachelor\\'s degree or equivalent experience. Experience managing enterprise SaaS accounts and sales cycles.\", \\n  \"Educational Requirements\": \"Bachelor\\'s degree or equivalent experience.\",\\n  \"Experience Level\": \"Experience managing enterprise SaaS accounts and sales cycles.\",\\n  \"Preferred Qualifications\": \"Experience building strategic partnerships with enterprise customers. Ability to work through a reseller ecosystem. Excellent communication and strategic thinking skills.\",\\n  \"Compensation and Benefits\": \"N/A\"\\n}',\n",
       "  ' {\\n  \"Core Responsibilities\": \"as an asc you will be highly influential in growing mind and market share of apple products while building longterm relationships with those who share your passion customer experiences are driven through you and your partner team growing in an ever changing and challenging environment you strive for perfection whether its maintaining visual merchandising or helping to grow and develop your partner team\",\\n  \"Required Skills\": \"a passion to help people understand how apple products can enrich their livesexcellent communication skills allowing you to be as comfortable in front of a small group as you are speaking with individuals years preferred working in a dynamic sales andor results driven environment as well as proven success developing customer loyaltyability to encourage a partner team and grow apple business\",\\n  \"Educational Requirements\": \"N/A\",\\n  \"Experience Level\": \"years preferred\",\\n  \"Preferred Qualifications\": \"N/A\",\\n  \"Compensation and Benefits\": \"N/A\"\\n}',\n",
       "  ' {\\n  \"Core Responsibilities\": \"Help drive business by supporting licensing managers on tasks related to category management, facilitating information between stakeholders, maintaining communication plans. Coordinate with internal teams to share brand and marketing updates with partners. Maintain and update title strategies and licensing plans. Collaborate with partners on product launches. Assist with licensing recaps, meetings, and agreements.\",\\n  \"Required Skills\": \"2+ years experience in preferably outbound licensing. Understanding of category manufacturing and sales cycles for toys/food/beverage preferred. Experience with entertainment/lifestyle brands. Self-starter, proactive, flexible. Thrives under pressure. Superb organizational and multitasking skills. Excellent communication skills.\", \\n  \"Educational Requirements\": \"N/A\",\\n  \"Experience Level\": \"2+ years experience in preferably outbound licensing\",\\n  \"Preferred Qualifications\": \"Understanding of category manufacturing and sales cycles for toys and/or food and beverage preferred. Experience working with reputable entertainment and/or lifestyle brands.\",\\n  \"Compensation and Benefits\": \"N/A\"\\n}',\n",
       "  ' {\\n  \"Core Responsibilities\": \"Designing websites, wireframes, landing pages, and mobile applications. Implementing designs using HTML, CSS, and JavaScript. QA testing sites and applications.\",\\n  \"Required Skills\": \"2+ years experience in web design. Proficiency with Adobe Creative Cloud (Photoshop, Illustrator, InDesign). Strong HTML, CSS, JavaScript skills. Familiarity with content management systems.\",  \\n  \"Educational Requirements\": \"N/A\",\\n  \"Experience Level\": \"2+ years\",\\n  \"Preferred Qualifications\": \"UX/UI design experience. Knowledge of brand standards and guidelines.\",\\n  \"Compensation and Benefits\": \"N/A\"\\n}',\n",
       "  ' {\\n  \"Core Responsibilities\": \"Build and layouts from provided PSD files, build dynamic web apps using PHP/MySQL frameworks, leverage REST services and other third-party APIs, rapidly solve problems/bugs and compatibility issues, troubleshoot test and maintain the core product software and databases\",\\n  \"Required Skills\": \"2+ years of experience with HTML and CSS/SASS, 2+ years of experience with programming PHP applications and LAMP stack development, experience with ES6 JavaScript and jQuery, thorough understanding of relational databases and security relating to PHP/MySQL, expert knowledge with content management systems either from your own design or from MVC frameworks such as Zend, Laravel etc., ability to build and consume custom SOAP and REST APIs, 2+ years of experience writing unit tests detailing procedures, self-motivated requiring minimal supervision, exceptional organization and communication skills\",\\n  \"Educational Requirements\": \"N/A\", \\n  \"Experience Level\": \"2+ years\",\\n  \"Preferred Qualifications\": \"N/A\",\\n  \"Compensation and Benefits\": \"Free health insurance for employees with no waiting period, dental and vision insurance (Trackfive splits the cost), paid birthday holiday, company-paid short and long-term disability insurance, company-paid life insurance, flex time, paid parental leave, company-matched retirement plan with no waiting or vesting period, work-from-home options, office perks like snacks/massages/pet days, opportunity to work with great people on exciting things, amazing holiday party\"\\n}']}"
      ]
     },
     "execution_count": 3,
     "metadata": {},
     "output_type": "execute_result"
    }
   ],
   "source": [
    "class JacobHuggingfaceDataset:\n",
    "    def __init__(self):\n",
    "        self.data_url = \"jacob-hugging-face/job-descriptions\"\n",
    "        self.base_output = \"./out\"\n",
    "        self.out_json_file = \"JacobHuggingFace.json\"\n",
    "        self.train_dataset = None\n",
    "        self.columns = []\n",
    "        self.train_sizes = 0\n",
    "\n",
    "    def is_english(self, text):\n",
    "        try:\n",
    "            return detect(text) == 'en'\n",
    "        except:\n",
    "            return False\n",
    "\n",
    "\n",
    "    def load_data(self):\n",
    "        dataset = load_dataset(self.data_url)\n",
    "        self.train_dataset = dataset['train']\n",
    "        self.columns = self.train_dataset.column_names\n",
    "        self.train_sizes = len(self.train_dataset)\n",
    "\n",
    "    \n",
    "    def save_to_json(self):\n",
    "        with open(self.base_output + \"/\" + self.out_json_file, \"a\") as f:\n",
    "            f.write(\"[\")\n",
    "            for job in self.train_dataset:\n",
    "                if self.is_english(job[\"Input\"]):\n",
    "                    json.dump(job, f)\n",
    "                    f.write(\",\\n\")\n",
    "                    logger.info(\"Saved %s ...\", job[\"Input\"])\n",
    "                else:\n",
    "                    pass\n",
    "            f.write(\"]\")\n",
    "\n",
    "\n",
    "JHD = JacobHuggingfaceDataset()\n",
    "JHD.load_data()\n"
   ]
  },
  {
   "cell_type": "code",
   "execution_count": null,
   "metadata": {},
   "outputs": [
    {
     "name": "stdout",
     "output_type": "stream",
     "text": [
      "853\n",
      "['company_name', 'job_description', 'position_title', 'description_length', 'model_response']\n",
      "{'company_name': ['Google', 'Apple', 'Netflix', 'Robert Half', 'TrackFive'], 'job_description': ['minimum qualifications\\nbachelors degree or equivalent practical experience years of experience in saas or productivity tools businessexperience managing enterprise accounts with sales cycles\\npreferred qualifications\\n years of experience building strategic business partnerships with enterprise customersability to work through and with a reseller ecosystem to scale the businessability to plan pitch and execute a territory business strategyability to build relationships and to deliver results in a crossfunctionalmatrixed environmentability to identify crosspromoting and uppromoting opportunities within the existing account baseexcellent account management writtenverbal communication strategic and analyticalthinking skills\\nabout the job\\nas a member of the google cloud team you inspire leading companies schools and government agencies to work smarter with google tools like google workspace search and chrome you advocate the innovative power of our products to make organizations more productive collaborative and mobile your guiding light is doing whats right for the customer you will meet customers exactly where they are at and provide them the best solutions for innovation using your passion for google products you help spread the magic of google to organizations around the world\\nthe google workspace team helps customers transform and evolve their business through the use of googles productivity collaboration and content management suite of applications as part of an entrepreneurial team in this growing business you will help shape the future of businesses use technology to connect with customers employees and partners\\nas a google workspace sales specialist you will be responsible for maintenance and expansion of google workspace business growth across the region with customers in this role youll create and execute the strategy and provide unique insights on applying google workspace solutions to enterprisesyou will build an excellent pipeline and work with the account teams to build out the customer solution and establish partnerships you will strategize with partners to increase account and territory business growth you will work directly with customers coordinate internal resources and construct successful strategies at account and territory level\\ngoogle cloud accelerates organizations ability to digitally transform their business with the best infrastructure platform industry solutions and expertise we deliver enterprisegrade solutions that leverage googles cuttingedge technology  all on the cleanest cloud in the industry customers in more than  countries and territories turn to google cloud as their trusted partner to enable growth and solve their most critical business problems', 'description\\nas an asc you will be highly influential in growing mind and market share of apple products while building longterm relationships with those who share your passion \\ncustomer experiences are driven through you and your partner team growing in an ever changing and challenging environment you strive for perfection whether its maintaining visual merchandising or helping to grow and develop your partner team\\n\\nqualifications\\na passion to help people understand how apple products can enrich their livesexcellent communication skills allowing you to be as comfortable in front of a small group as you are speaking with individuals years preferred working in a dynamic sales andor results driven environment as well as proven success developing customer loyaltyability to encourage a partner team and grow apple business', 'its an amazing time to be joining netflix as we continue to transform entertainment globally netflix is the worlds leading internet entertainment service with over  million paid memberships in over  countries enjoying tv series documentaries and feature films across a wide variety of genres and languages members can watch as much as they want anytime anywhere on any internetconnected screen members can play pause and resume watching all without commercials or commitments\\n\\nthe consumer products team aspires to connect members to our content and each other by bringing their favorite stories to real life our products and campaigns should entertain delight and bring joy to our fans all over the world\\xa0\\n\\ndue to the expansion of licensees and categories we are in need of additional support with active and prospective partnerships for current and upcoming titles we are looking for a licensing coordinator who will work across the entire slate of netflix content to bring our content to life via compelling products they will support two managers who oversee the food and beverage toys and collectibles electronics and sporting goods categories focusing on us and canada regional opportunities the individual would be a taskmaster extraordinaire who will assist in the day to day deliverables working alongside internal as well as external partners the successful candidate will be a dynamic professional who has an understanding of the outbound licensing workflow and can roll up their sleeves to knock out tasks in an orderly and swift pace\\xa0\\n\\nkey responsibilities\\nhelp drive business by supporting licensing managers on tasks related to category management facilitating information between external and internal stakeholders and maintaining communication of product and partner planscoordinate with internal teams to gather and distribute brand and marketing updates to share out with licensing partnersmaintain and update title strategies with category licensing plans and activitycollaborate with licensing partners to obtain placement updates and distribute to internal business partnersassist licensing managers with compiling licensing recaps following product launches\\xa0schedule meetings and when needed draft and distribute meeting recaps to respective business partnersprepare distribute and track deal memos and final agreements to ensure deals are processed efficiently through all stepswork with licensing managers to prepare onboarding for new licenseesfacilitate receipt of forecasts and send royalty payment reminders as neededpartner with creative teams to keep product development on track to attain commercial objectives\\nwhat we need from you\\ndemonstrated  years of experience in preferably outbound licensing functionunderstanding of category manufacturing and sales cycle for toys andor food and beverage is preferredexperience working with reputable entertainment andor lifestyle brandsselfstarter motivated proactive and flexibleability to thrive under pressure in a fastpaced dynamic environmentpossess attention to details with superb organizational skillsmultitasker extraordinaire with ability to prioritizeexcellent communicator\\xa0alignment with our company\\xa0culture\\xa0and values', 'description\\n\\nweb designers looking to expand your professional reach welcome to robert half marketing  creative start the process with robert half today\\n\\nwe are searching for highly skilled web designers with experience working within corporate brand standards and guidelines the ideal candidates would have advanced skills in creating wireframes designing mobile applications landing pages interactive sites qa testing experience working with various interfaces and familiarity with uxui design principles candidates are expected to have strong skills in adobe photoshop illustrator and indesign any experience in html css and javascript is a major plus familiarity with content management systems is highly preferred\\n\\nthere is nothing more satisfying when looking for freelance and fulltime creative opportunities than working with someone who knows your area of expertise as industry professionals robert half marketing  creative is a team that puts your needs first and effectively represents you as a creative talent thats the kind of service youll receive from our team at robert half\\n\\nwe have marketing advertising and creative backgrounds just like yours  so were on your side right from the start could you ask for a better support team\\n\\nrequirements\\n  years experience in a web design role\\n experience working within a clients brand standards or guidelines\\n advanced skill in the adobe creative cloud\\n\\ninnovation starts with people\\n\\nrobert half is the worlds first and largest specialized talent solutions firm that connects highly qualified job seekers to opportunities at great companies we offer contract temporary and permanent placement solutions for finance and accounting technology marketing and creative legal and administrative and customer support roles\\n\\nrobert half puts you in the best position to succeed by advocating on your behalf and promoting you to employers we provide access to top jobs competitive compensation and benefits and free online training stay on top of every opportunity  even on the go\\n\\nquestions call your local office at  robert half will consider qualified applicants with criminal histories in a manner consistent with the requirements of the san francisco fair chance ordinance all applicants applying for us job openings must be legally authorized to work in the united states benefits are available to temporary professionals visit\\n\\n  robert half an equal opportunity employer mfdisabilityveterans by clicking apply now youre agreeing to', 'at trackfive weve got big goals were on a mission to revolutionize recruiting with easytouse tools and platforms and we envision a future where we can fill every open job with a qualified candidate thats why were looking for pioneerspeople who blaze trails and are committed to doing great work we might be small but we are mightyweve got more than a decade of skin in the game yet weve managed to maintain our startup feel the trackfive culture is centered around hard work but we believe strongly in balance and having funin a nutshell we love coming to work we value different backgrounds and perspectives believing that together we can use our creativity and curiosity to make amazing things happen\\n\\nif youre ready to be a part of something exciting trackfive is currently searching for a talented web developer this position is not dependent on location and can be local to the office with hybrid or inoffice options available or fully remote\\n please note that a skills test may be a requirement for potential candidates in the interview process\\n\\nwhat youll do\\n\\nthe web developer is responsible for delivering robust solutions to our clients they work collaboratively to support trackfives existing web application portfolio and the successful delivery of new development initiatives\\n\\nthe life of a trackfive web developer\\n contribute to all phases of the development lifecycle by following internal procedures and coding standards\\n build  layouts from provided psd files\\n build dynamic web apps using phpmysqlframeworks\\n leverage rest services and other thirdparty apis\\n rapidly solve problems bugs and compatibility issues\\n troubleshoot test and maintain the core product software and databases to ensure strong optimization and functionality\\n develop and deploy new features to facilitate related procedures and tools as necessary\\n\\nskills necessary\\n  years or experience with html and csssass\\n  years of experience with programming php applications and lamp stack development\\n experience with   javascript and jquery\\n thorough understanding of relational databases and security relating to phpmysql\\n expert knowledge with content management systems either from your own design or from mvc frameworks such as zend laravel etc\\n ability to build and consume custom soap and rest apis\\n  years of experience writing unit testsdetailing procedures\\n selfmotivated requiring minimal supervision\\n exceptional organization and communication skills\\n\\nwhy you want to work at trackfive\\n free health insurance for employees with no waiting period\\n dental and vision insurance trackfive splits the cost with you\\n your birthday is a paid holiday\\n companypaid short and longterm disability insurance\\n companypaid life insurance\\n flex time\\n paid parental leave\\n companymatched retirement plan with no waiting or vesting period\\n the opportunity to workfromhome a few days a week\\n so much swag\\n cool inoffice perks like free snacks massages yoga and bringyourpettowork days just to name a few\\n the opportunity to work with a great group of people up to some very exciting things\\n the opportunity to attend our epic annual holiday party\\n trackfive is an equal opportunity employer'], 'position_title': ['Sales Specialist', 'Apple Solutions Consultant', 'Licensing Coordinator - Consumer Products', 'Web Designer', 'Web Developer'], 'description_length': [2727, 828, 3205, 2489, 3167], 'model_response': [' {\\n  \"Core Responsibilities\": \"Responsible for expanding Google Workspace product adoption across an assigned territory. Build relationships with customers to understand needs and provide Google Workspace solutions. Partner with account teams to construct solutions and grow business for Google Workspace.\",\\n  \"Required Skills\": \"Bachelor\\'s degree or equivalent experience. Experience managing enterprise SaaS accounts and sales cycles.\", \\n  \"Educational Requirements\": \"Bachelor\\'s degree or equivalent experience.\",\\n  \"Experience Level\": \"Experience managing enterprise SaaS accounts and sales cycles.\",\\n  \"Preferred Qualifications\": \"Experience building strategic partnerships with enterprise customers. Ability to work through a reseller ecosystem. Excellent communication and strategic thinking skills.\",\\n  \"Compensation and Benefits\": \"N/A\"\\n}', ' {\\n  \"Core Responsibilities\": \"as an asc you will be highly influential in growing mind and market share of apple products while building longterm relationships with those who share your passion customer experiences are driven through you and your partner team growing in an ever changing and challenging environment you strive for perfection whether its maintaining visual merchandising or helping to grow and develop your partner team\",\\n  \"Required Skills\": \"a passion to help people understand how apple products can enrich their livesexcellent communication skills allowing you to be as comfortable in front of a small group as you are speaking with individuals years preferred working in a dynamic sales andor results driven environment as well as proven success developing customer loyaltyability to encourage a partner team and grow apple business\",\\n  \"Educational Requirements\": \"N/A\",\\n  \"Experience Level\": \"years preferred\",\\n  \"Preferred Qualifications\": \"N/A\",\\n  \"Compensation and Benefits\": \"N/A\"\\n}', ' {\\n  \"Core Responsibilities\": \"Help drive business by supporting licensing managers on tasks related to category management, facilitating information between stakeholders, maintaining communication plans. Coordinate with internal teams to share brand and marketing updates with partners. Maintain and update title strategies and licensing plans. Collaborate with partners on product launches. Assist with licensing recaps, meetings, and agreements.\",\\n  \"Required Skills\": \"2+ years experience in preferably outbound licensing. Understanding of category manufacturing and sales cycles for toys/food/beverage preferred. Experience with entertainment/lifestyle brands. Self-starter, proactive, flexible. Thrives under pressure. Superb organizational and multitasking skills. Excellent communication skills.\", \\n  \"Educational Requirements\": \"N/A\",\\n  \"Experience Level\": \"2+ years experience in preferably outbound licensing\",\\n  \"Preferred Qualifications\": \"Understanding of category manufacturing and sales cycles for toys and/or food and beverage preferred. Experience working with reputable entertainment and/or lifestyle brands.\",\\n  \"Compensation and Benefits\": \"N/A\"\\n}', ' {\\n  \"Core Responsibilities\": \"Designing websites, wireframes, landing pages, and mobile applications. Implementing designs using HTML, CSS, and JavaScript. QA testing sites and applications.\",\\n  \"Required Skills\": \"2+ years experience in web design. Proficiency with Adobe Creative Cloud (Photoshop, Illustrator, InDesign). Strong HTML, CSS, JavaScript skills. Familiarity with content management systems.\",  \\n  \"Educational Requirements\": \"N/A\",\\n  \"Experience Level\": \"2+ years\",\\n  \"Preferred Qualifications\": \"UX/UI design experience. Knowledge of brand standards and guidelines.\",\\n  \"Compensation and Benefits\": \"N/A\"\\n}', ' {\\n  \"Core Responsibilities\": \"Build and layouts from provided PSD files, build dynamic web apps using PHP/MySQL frameworks, leverage REST services and other third-party APIs, rapidly solve problems/bugs and compatibility issues, troubleshoot test and maintain the core product software and databases\",\\n  \"Required Skills\": \"2+ years of experience with HTML and CSS/SASS, 2+ years of experience with programming PHP applications and LAMP stack development, experience with ES6 JavaScript and jQuery, thorough understanding of relational databases and security relating to PHP/MySQL, expert knowledge with content management systems either from your own design or from MVC frameworks such as Zend, Laravel etc., ability to build and consume custom SOAP and REST APIs, 2+ years of experience writing unit tests detailing procedures, self-motivated requiring minimal supervision, exceptional organization and communication skills\",\\n  \"Educational Requirements\": \"N/A\", \\n  \"Experience Level\": \"2+ years\",\\n  \"Preferred Qualifications\": \"N/A\",\\n  \"Compensation and Benefits\": \"Free health insurance for employees with no waiting period, dental and vision insurance (Trackfive splits the cost), paid birthday holiday, company-paid short and long-term disability insurance, company-paid life insurance, flex time, paid parental leave, company-matched retirement plan with no waiting or vesting period, work-from-home options, office perks like snacks/massages/pet days, opportunity to work with great people on exciting things, amazing holiday party\"\\n}']}\n"
     ]
    }
   ],
   "source": [
    "print(JHD.train_sizes)\n",
    "print(JHD.columns)\n",
    "print(JHD.train_dataset[:5])"
   ]
  },
  {
   "cell_type": "code",
   "execution_count": 3,
   "metadata": {},
   "outputs": [],
   "source": [
    "class LangUKRecruitmentDataset:\n",
    "    def __init__(self):\n",
    "        self.data_url =  \"lang-uk/recruitment-dataset-job-descriptions-english\"\n",
    "        self.base_output = \"./out\"\n",
    "        self.out_json_file = \"LangUKRecruitment.json\"\n",
    "        self.train_dataset = None\n",
    "        self.columns = []\n",
    "        self.train_sizes = 0\n",
    "\n",
    "    def is_english(self, text):\n",
    "        try:\n",
    "            return detect(text) == 'en'\n",
    "        except:\n",
    "            return False\n",
    "\n",
    "\n",
    "    def load_data(self):\n",
    "        dataset = load_dataset(self.data_url)\n",
    "        self.train_dataset = dataset['train']\n",
    "        self.columns = self.train_dataset.column_names\n",
    "        self.train_sizes = len(self.train_dataset)\n",
    "\n",
    "    def filtered_train_dataset(self):\n",
    "        retval = [i for i in self.train_dataset if len(i[\"Long Description\"]) > 1200]\n",
    "        logger.info(\"Filtered %d out of %d\", len(retval), self.train_sizes)\n",
    "        return retval\n",
    "\n",
    "    \n",
    "    def save_to_json(self):\n",
    "        with open(self.base_output + \"/\" + self.out_json_file, \"a\") as f:\n",
    "            f.write(\"[\" + \"\\n\")\n",
    "            filtered_dataset = self.filtered_train_dataset()\n",
    "            for job in filtered_dataset:\n",
    "                json.dump(job, f)\n",
    "                f.write(\",\\n\")\n",
    "                logger.info(\"Saved %s ...\", job[\"Position\"])\n",
    "            f.write(\"]\")\n",
    "\n",
    "\n",
    "LUD = LangUKRecruitmentDataset()\n",
    "LUD.load_data()\n",
    "# LUD.save_to_json()"
   ]
  },
  {
   "cell_type": "code",
   "execution_count": 5,
   "metadata": {},
   "outputs": [
    {
     "name": "stdout",
     "output_type": "stream",
     "text": [
      "141897\n",
      "['Position', 'Long Description', 'Company Name', 'Exp Years', 'Primary Keyword', 'English Level', 'Published', 'Long Description_lang', 'id', '__index_level_0__']\n"
     ]
    },
    {
     "data": {
      "text/plain": [
       "100217"
      ]
     },
     "execution_count": 5,
     "metadata": {},
     "output_type": "execute_result"
    }
   ],
   "source": [
    "def is_english(text):\n",
    "        try:\n",
    "            return detect(text) == 'en'\n",
    "        except:\n",
    "            return False\n",
    "\n",
    "print(LUD.train_sizes)\n",
    "print(LUD.columns)\n",
    "len([i for i in LUD.train_dataset if len(i[\"Long Description\"]) > 1200])"
   ]
  }
 ],
 "metadata": {
  "kernelspec": {
   "display_name": "py39",
   "language": "python",
   "name": "python3"
  },
  "language_info": {
   "codemirror_mode": {
    "name": "ipython",
    "version": 3
   },
   "file_extension": ".py",
   "mimetype": "text/x-python",
   "name": "python",
   "nbconvert_exporter": "python",
   "pygments_lexer": "ipython3",
   "version": "3.9.19"
  }
 },
 "nbformat": 4,
 "nbformat_minor": 2
}
