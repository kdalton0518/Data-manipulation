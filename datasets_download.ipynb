{
 "cells": [
  {
   "cell_type": "code",
   "execution_count": 1,
   "metadata": {},
   "outputs": [],
   "source": [
    "from datasets import load_dataset\n",
    "\n",
    "from deep_translator import GoogleTranslator\n",
    "translator = GoogleTranslator(source='fr', target='en')\n",
    "\n",
    "\n",
    "datasets_urls = [\n",
    "    \"MbarkiDAzizAI/Job_Description\",\n",
    "    \"jacob-hugging-face/job-descriptions\",\n",
    "    \"lang-uk/recruitment-dataset-job-descriptions-english\", \n",
    "    \"Aneeth/job_description_7k\",\n",
    "    \"Aneeth/job_description_10k\",\n",
    "    \"cnamuangtoun/resume-job-description-fit\",\n",
    "    \"nakamoto-yama/job-descriptions-public\",\n",
    "    \"nathansutton/data-science-job-descriptions\"\n",
    "    ]\n"
   ]
  },
  {
   "cell_type": "code",
   "execution_count": 2,
   "metadata": {},
   "outputs": [],
   "source": [
    "import logging, json\n",
    "\n",
    "logging.basicConfig(\n",
    "\tformat='%(asctime)s %(levelname)-8s %(message)s',\n",
    "\tlevel=logging.INFO,\n",
    "\tdatefmt='%Y-%m-%d %H:%M:%S')\n",
    "\n",
    "logger = logging\n"
   ]
  },
  {
   "cell_type": "code",
   "execution_count": 3,
   "metadata": {},
   "outputs": [],
   "source": [
    "class MbarkDiAzizAIDataset:\n",
    "    def __init__(self):\n",
    "        self.data_url = \"MbarkiDAzizAI/Job_Description\"\n",
    "        self.base_output = \"./out\"\n",
    "        self.out_json_file = \"MbarkiDAzizAI.json\"\n",
    "        self.train_dataset = None\n",
    "        self.columns = []\n",
    "        self.train_sizes = 0\n",
    "\n",
    "\n",
    "    def load_data(self):\n",
    "        dataset = load_dataset(self.data_url)\n",
    "        self.train_dataset = dataset['train']\n",
    "        self.columns = self.train_dataset.column_names\n",
    "        self.train_sizes = len(self.train_dataset)\n",
    "\n",
    "    \n",
    "    def save_to_json(self):\n",
    "        with open(self.base_output + \"/\" + self.out_json_file, \"a\") as f:\n",
    "            f.write(\"[\")\n",
    "            for job in self.train_dataset:\n",
    "                translated_job = {key:translator.translate(value) for key, value in job.items()}\n",
    "                json.dump(translated_job, f)\n",
    "                f.write(\",\\n\")\n",
    "                logger.info(\"Saved %s ...\", translated_job[\"Input\"])\n",
    "            f.write(\"]\")\n"
   ]
  },
  {
   "cell_type": "code",
   "execution_count": null,
   "metadata": {},
   "outputs": [],
   "source": [
    "MDA = MbarkDiAzizAIDataset()\n",
    "MDA.load_data()\n",
    "MDA.save_to_json()"
   ]
  }
 ],
 "metadata": {
  "kernelspec": {
   "display_name": "py39",
   "language": "python",
   "name": "python3"
  },
  "language_info": {
   "codemirror_mode": {
    "name": "ipython",
    "version": 3
   },
   "file_extension": ".py",
   "mimetype": "text/x-python",
   "name": "python",
   "nbconvert_exporter": "python",
   "pygments_lexer": "ipython3",
   "version": "3.9.19"
  }
 },
 "nbformat": 4,
 "nbformat_minor": 2
}
